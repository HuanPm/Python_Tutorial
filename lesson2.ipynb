{
 "cells": [
  {
   "cell_type": "markdown",
   "metadata": {},
   "source": [
    "# Data Types and Variables\n",
    "In Python, we can use variables to store any data without declaration with specific data types.\n",
    "\n",
    "Ex.\n",
    "\n",
    "`a = 1`\n",
    "\n",
    "`b = \"text\"`\n",
    "\n",
    "Data types in Python can be simply categorized as the following:"
   ]
  },
  {
   "cell_type": "markdown",
   "metadata": {},
   "source": [
    "## Basic Data Types"
   ]
  },
  {
   "cell_type": "markdown",
   "metadata": {},
   "source": [
    "### 1. Text Type - `str`\n",
    "Single line text\n",
    " - \"Hello\"\n",
    " - 'Hi'\n",
    " - \"'abc'\"\n",
    " - '\"abc\"'\n",
    " \n",
    "Multiline text\n",
    " - \"\"\"Long long long long\n",
    "\n",
    "   text\"\"\"\n",
    " - '''Long long long long\n",
    " \n",
    "   text'''\n"
   ]
  },
  {
   "cell_type": "code",
   "execution_count": 1,
   "metadata": {},
   "outputs": [
    {
     "name": "stdout",
     "output_type": "stream",
     "text": [
      "'abc'\n"
     ]
    }
   ],
   "source": [
    "# print single line string\n",
    "x = \"'abc'\"\n",
    "print(x)"
   ]
  },
  {
   "cell_type": "code",
   "execution_count": 2,
   "metadata": {},
   "outputs": [
    {
     "name": "stdout",
     "output_type": "stream",
     "text": [
      "Text\n",
      "Text\n"
     ]
    }
   ],
   "source": [
    "# print multiline string\n",
    "x = \"\"\"Text\n",
    "Text\"\"\"\n",
    "print(x)"
   ]
  },
  {
   "cell_type": "markdown",
   "metadata": {},
   "source": [
    "### 2. Numeric Types - `int`, `float`, `complex`\n",
    "int\n",
    " - 1\n",
    " - 10000\n",
    " - -1\n",
    "\n",
    "float\n",
    " - 0.1\n",
    " - -0.1\n",
    " - 1e3\n",
    " - 2E2\n",
    "\n",
    "complex\n",
    " - 1 + 1j\n",
    " - 2j\n",
    " - -3j"
   ]
  },
  {
   "cell_type": "code",
   "execution_count": 3,
   "metadata": {},
   "outputs": [
    {
     "name": "stdout",
     "output_type": "stream",
     "text": [
      "100\n"
     ]
    }
   ],
   "source": [
    "# print int\n",
    "x = 100\n",
    "print(x)"
   ]
  },
  {
   "cell_type": "code",
   "execution_count": 4,
   "metadata": {},
   "outputs": [
    {
     "name": "stdout",
     "output_type": "stream",
     "text": [
      "200.0\n"
     ]
    }
   ],
   "source": [
    "# print float\n",
    "x = 2E2\n",
    "print(x)"
   ]
  },
  {
   "cell_type": "code",
   "execution_count": 5,
   "metadata": {},
   "outputs": [
    {
     "name": "stdout",
     "output_type": "stream",
     "text": [
      "(1+2j)\n"
     ]
    }
   ],
   "source": [
    "# print complex\n",
    "x = 1 + 2j\n",
    "print(x)"
   ]
  },
  {
   "cell_type": "markdown",
   "metadata": {},
   "source": [
    "### 3. Boolean Types - `bool`\n",
    "True or False"
   ]
  },
  {
   "cell_type": "code",
   "execution_count": 6,
   "metadata": {},
   "outputs": [
    {
     "name": "stdout",
     "output_type": "stream",
     "text": [
      "True\n"
     ]
    }
   ],
   "source": [
    "# print bool\n",
    "x = True\n",
    "print(x)"
   ]
  },
  {
   "cell_type": "markdown",
   "metadata": {},
   "source": [
    "## Collection Data Types\n",
    "There are four types that can store multiple items in a single variable."
   ]
  },
  {
   "cell_type": "markdown",
   "metadata": {},
   "source": [
    "### 1. [ ] - `list`\n",
    "List items are ordered, changeable, and allow duplicate values\n",
    " - [\"Apple\", \"Banana\"]\n",
    " - [1, 1, 2, 3]\n",
    " \n",
    "Ordered means we can get item in list with its index.\n",
    "\n",
    "Changeable means we can change items in list."
   ]
  },
  {
   "cell_type": "code",
   "execution_count": 7,
   "metadata": {},
   "outputs": [
    {
     "name": "stdout",
     "output_type": "stream",
     "text": [
      "[1, 2, 3, 3]\n",
      "2\n",
      "[2, 2, 3, 3]\n"
     ]
    }
   ],
   "source": [
    "# print list\n",
    "x = [1, 2, 3, 3]\n",
    "print(x)\n",
    "\n",
    "# print second item in list\n",
    "y = x[1]\n",
    "print(y)\n",
    "\n",
    "# change first item in list and print\n",
    "x[0] = 2\n",
    "print(x)"
   ]
  },
  {
   "cell_type": "markdown",
   "metadata": {},
   "source": [
    "### 2. ( ) - `tuple`\n",
    "Tuple items are ordered, unchangeable, and allow duplicate values\n",
    " - (\"Apple\", \"Banana\")\n",
    " - (1, 2, 3, 3)\n",
    "\n",
    "Unchangeable means we cannot change item in tuple."
   ]
  },
  {
   "cell_type": "code",
   "execution_count": 8,
   "metadata": {},
   "outputs": [
    {
     "name": "stdout",
     "output_type": "stream",
     "text": [
      "('Apple', 'Banana')\n",
      "Apple\n"
     ]
    }
   ],
   "source": [
    "# print tuple\n",
    "x = (\"Apple\", \"Banana\")\n",
    "print(x)\n",
    "\n",
    "# print first item in tuple\n",
    "y = x[0]\n",
    "print(y)"
   ]
  },
  {
   "cell_type": "code",
   "execution_count": 9,
   "metadata": {},
   "outputs": [
    {
     "ename": "TypeError",
     "evalue": "'tuple' object does not support item assignment",
     "output_type": "error",
     "traceback": [
      "\u001b[1;31m---------------------------------------------------------------------------\u001b[0m",
      "\u001b[1;31mTypeError\u001b[0m                                 Traceback (most recent call last)",
      "Cell \u001b[1;32mIn[9], line 3\u001b[0m\n\u001b[0;32m      1\u001b[0m \u001b[38;5;66;03m# Cannot change item in tuple\u001b[39;00m\n\u001b[0;32m      2\u001b[0m x \u001b[38;5;241m=\u001b[39m (\u001b[38;5;241m1\u001b[39m, \u001b[38;5;241m2\u001b[39m, \u001b[38;5;241m3\u001b[39m)\n\u001b[1;32m----> 3\u001b[0m x[\u001b[38;5;241m2\u001b[39m] \u001b[38;5;241m=\u001b[39m \u001b[38;5;241m1\u001b[39m\n",
      "\u001b[1;31mTypeError\u001b[0m: 'tuple' object does not support item assignment"
     ]
    }
   ],
   "source": [
    "# Cannot change item in tuple\n",
    "x = (1, 2, 3)\n",
    "x[2] = 1"
   ]
  },
  {
   "cell_type": "markdown",
   "metadata": {},
   "source": [
    "### 3. { } - `set`\n",
    "Set items are unordered, unchangeable*, and not duplicates\n",
    " - {\"Apple\", \"Banana\"}\n",
    " - {1, 2, 3}\n",
    "\n",
    "Unchangeable means we cannot change item in set, but different from tuple, we can add and remote items to set."
   ]
  },
  {
   "cell_type": "code",
   "execution_count": 10,
   "metadata": {},
   "outputs": [
    {
     "name": "stdout",
     "output_type": "stream",
     "text": [
      "{1, 2, 3}\n",
      "{1, 2, 3}\n"
     ]
    }
   ],
   "source": [
    "# print set\n",
    "x = {1, 2, 3}\n",
    "print(x)\n",
    "\n",
    "# duplicate values in set and print\n",
    "x = {1, 2, 3, 3}\n",
    "print(x)"
   ]
  },
  {
   "cell_type": "code",
   "execution_count": 11,
   "metadata": {},
   "outputs": [
    {
     "ename": "TypeError",
     "evalue": "'set' object is not subscriptable",
     "output_type": "error",
     "traceback": [
      "\u001b[1;31m---------------------------------------------------------------------------\u001b[0m",
      "\u001b[1;31mTypeError\u001b[0m                                 Traceback (most recent call last)",
      "Cell \u001b[1;32mIn[11], line 3\u001b[0m\n\u001b[0;32m      1\u001b[0m \u001b[38;5;66;03m# Cannot get item in set - unordered\u001b[39;00m\n\u001b[0;32m      2\u001b[0m x \u001b[38;5;241m=\u001b[39m {\u001b[38;5;124m\"\u001b[39m\u001b[38;5;124mApple\u001b[39m\u001b[38;5;124m\"\u001b[39m, \u001b[38;5;124m\"\u001b[39m\u001b[38;5;124mBanana\u001b[39m\u001b[38;5;124m\"\u001b[39m}\n\u001b[1;32m----> 3\u001b[0m \u001b[38;5;28mprint\u001b[39m(x[\u001b[38;5;241m0\u001b[39m])\n",
      "\u001b[1;31mTypeError\u001b[0m: 'set' object is not subscriptable"
     ]
    }
   ],
   "source": [
    "# Cannot get item in set - unordered\n",
    "x = {\"Apple\", \"Banana\"}\n",
    "print(x[0])"
   ]
  },
  {
   "cell_type": "code",
   "execution_count": 12,
   "metadata": {},
   "outputs": [
    {
     "ename": "TypeError",
     "evalue": "'set' object does not support item assignment",
     "output_type": "error",
     "traceback": [
      "\u001b[1;31m---------------------------------------------------------------------------\u001b[0m",
      "\u001b[1;31mTypeError\u001b[0m                                 Traceback (most recent call last)",
      "Cell \u001b[1;32mIn[12], line 3\u001b[0m\n\u001b[0;32m      1\u001b[0m \u001b[38;5;66;03m# Cannot change item in set - unchangeable\u001b[39;00m\n\u001b[0;32m      2\u001b[0m x \u001b[38;5;241m=\u001b[39m {\u001b[38;5;124m\"\u001b[39m\u001b[38;5;124mApple\u001b[39m\u001b[38;5;124m\"\u001b[39m, \u001b[38;5;124m\"\u001b[39m\u001b[38;5;124mBanana\u001b[39m\u001b[38;5;124m\"\u001b[39m}\n\u001b[1;32m----> 3\u001b[0m x[\u001b[38;5;241m0\u001b[39m] \u001b[38;5;241m=\u001b[39m \u001b[38;5;124m\"\u001b[39m\u001b[38;5;124mCandy\u001b[39m\u001b[38;5;124m\"\u001b[39m\n",
      "\u001b[1;31mTypeError\u001b[0m: 'set' object does not support item assignment"
     ]
    }
   ],
   "source": [
    "# Cannot change item in set - unchangeable\n",
    "x = {\"Apple\", \"Banana\"}\n",
    "x[0] = \"Candy\""
   ]
  },
  {
   "cell_type": "code",
   "execution_count": 13,
   "metadata": {},
   "outputs": [
    {
     "name": "stdout",
     "output_type": "stream",
     "text": [
      "{1, 2, 3, 4}\n"
     ]
    }
   ],
   "source": [
    "# Add item to set\n",
    "x = {1, 2, 3}\n",
    "x.add(4)\n",
    "print(x)"
   ]
  },
  {
   "cell_type": "markdown",
   "metadata": {},
   "source": [
    "### 4. Dictionary { key : value } - `dict`\n",
    "Dictionary can store data with pair key, value.\n",
    "Dictionary items is ordered (pairs), changeable (value) and no duplicates (key)\n",
    "- {\n",
    "    \"name\": \"Tino\",\n",
    "    \"age\": 30\n",
    "}"
   ]
  },
  {
   "cell_type": "code",
   "execution_count": 14,
   "metadata": {},
   "outputs": [
    {
     "name": "stdout",
     "output_type": "stream",
     "text": [
      "{'name': 'Tino', 'age': 30}\n",
      "{'name': 'Tino', 'age': 18}\n",
      "{'name': 'Celia'}\n"
     ]
    }
   ],
   "source": [
    "# print dict\n",
    "person = {\n",
    "    'name': \"Tino\",\n",
    "    'age': 30\n",
    "}\n",
    "print(person)\n",
    "\n",
    "# change age in dict and print\n",
    "person['age'] = 18\n",
    "print(person)\n",
    "\n",
    "# print duplicate keys in dict\n",
    "person = {\n",
    "    'name': \"Tino\",\n",
    "    'name': \"Celia\"\n",
    "}\n",
    "print(person)"
   ]
  },
  {
   "cell_type": "markdown",
   "metadata": {},
   "source": [
    "## Exercise\n",
    "My name is Tino. I am 30 years old. I wear a black and white T-shirt, black glasses, a blue hat, brown pants and grey shoes. I cannot fly.\n",
    "\n",
    "Try to create a variable to store above information and print."
   ]
  },
  {
   "cell_type": "code",
   "execution_count": null,
   "metadata": {},
   "outputs": [],
   "source": []
  }
 ],
 "metadata": {
  "kernelspec": {
   "display_name": "python_311",
   "language": "python",
   "name": "python3"
  },
  "language_info": {
   "codemirror_mode": {
    "name": "ipython",
    "version": 3
   },
   "file_extension": ".py",
   "mimetype": "text/x-python",
   "name": "python",
   "nbconvert_exporter": "python",
   "pygments_lexer": "ipython3",
   "version": "3.11.8"
  }
 },
 "nbformat": 4,
 "nbformat_minor": 2
}
