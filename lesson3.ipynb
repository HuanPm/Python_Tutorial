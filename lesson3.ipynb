{
 "cells": [
  {
   "cell_type": "markdown",
   "metadata": {},
   "source": [
    "# Operators\n",
    "Operators can be devided into the following groups to perform operations on variables and values  "
   ]
  },
  {
   "cell_type": "markdown",
   "metadata": {},
   "source": [
    "## 1. Arithmetic Operators\n",
    "Return the result of operations on two values\n",
    "\n",
    "| Operator  | Name              |\n",
    "| --        | --                |\n",
    "| +         | Addition          |\n",
    "| -         | Subtraction       |\n",
    "| *         | Multiplication    |\n",
    "| /         | Division          |\n",
    "| %         | Modules           |\n",
    "| **        | Exponentiation    |\n",
    "| //        | Floor division    |"
   ]
  },
  {
   "cell_type": "code",
   "execution_count": 1,
   "metadata": {},
   "outputs": [
    {
     "name": "stdout",
     "output_type": "stream",
     "text": [
      "Addition: 2\n",
      "Subtraction: 3\n",
      "Multiplication: 6\n",
      "Division: 2.5\n",
      "Modules: 1\n",
      "Exponentiation: 9\n",
      "Floor division: 2\n"
     ]
    }
   ],
   "source": [
    "# Addition\n",
    "x = 1 + 1\n",
    "print(\"Addition:\", x)\n",
    "\n",
    "# Subtraction\n",
    "x = 5 - 2\n",
    "print(\"Subtraction:\", x)\n",
    "\n",
    "# Multiplication\n",
    "x = 3 * 2\n",
    "print(\"Multiplication:\", x)\n",
    "\n",
    "# Division\n",
    "x = 5 / 2\n",
    "print(\"Division:\", x)\n",
    "\n",
    "# Modules\n",
    "x = 5 % 2\n",
    "print(\"Modules:\", x)\n",
    "\n",
    "# Exponentiation\n",
    "x = 3 ** 2\n",
    "print(\"Exponentiation:\", x)\n",
    "\n",
    "# Floor division\n",
    "x = 5 // 2\n",
    "print(\"Floor division:\", x)"
   ]
  },
  {
   "cell_type": "markdown",
   "metadata": {},
   "source": [
    "## 2. Comparison Operators\n",
    "\n",
    "Return the comparison result (True or False) on two variables and vlues\n",
    "| Operator  | Name                      |\n",
    "| --        | --                        |\n",
    "| ==        | Equal                     |\n",
    "| !=        | Not equal                 |\n",
    "| >         | Greater than              |\n",
    "| <         | Less than                 |\n",
    "| >=        | Greater than or equal to  |\n",
    "| <=        | Less than or equal to     |"
   ]
  },
  {
   "cell_type": "code",
   "execution_count": 2,
   "metadata": {},
   "outputs": [
    {
     "name": "stdout",
     "output_type": "stream",
     "text": [
      "Equal: False\n",
      "Not equal: True\n",
      "Greater than: True\n",
      "Less than: False\n",
      "Greater than or equal to: True\n",
      "Less than or equal to: False\n"
     ]
    }
   ],
   "source": [
    "x, y = 5, 2\n",
    "\n",
    "# Equal\n",
    "print(\"Equal:\", x == y)\n",
    "\n",
    "# Not equal\n",
    "print(\"Not equal:\", x != y)\n",
    "\n",
    "# Greater than\n",
    "print(\"Greater than:\", x > y)\n",
    "\n",
    "# Less than\n",
    "print(\"Less than:\", x < y)\n",
    "\n",
    "# Greater than or equal to\n",
    "print(\"Greater than or equal to:\", x >= y)\n",
    "\n",
    "# Less than or equal to\n",
    "print(\"Less than or equal to:\", x <= y)"
   ]
  },
  {
   "cell_type": "markdown",
   "metadata": {},
   "source": [
    "## 3. Logical Operators\n",
    "\n",
    "Return the logical result of two boolean values\n",
    "| Operators | Description           |\n",
    "| --        | --                    |\n",
    "| and       | if both are True      |\n",
    "| or        | if any is True        |\n",
    "| not       | reverse the result    |"
   ]
  },
  {
   "cell_type": "code",
   "execution_count": 3,
   "metadata": {},
   "outputs": [
    {
     "name": "stdout",
     "output_type": "stream",
     "text": [
      "and: True\n",
      "and: False\n",
      "or: True\n",
      "or: False\n",
      "not: True\n",
      "not: False\n"
     ]
    }
   ],
   "source": [
    "x = 5\n",
    "\n",
    "# and\n",
    "print(\"and:\", x > 3 and x < 8)\n",
    "print(\"and:\", x >= 7 and x < 8)\n",
    "\n",
    "# or\n",
    "print(\"or:\", x > 8 or x == 5)\n",
    "print(\"or:\", x == 8 or x < 5)\n",
    "\n",
    "# not\n",
    "print(\"not:\", not x == 3)\n",
    "print(\"not:\", not x > 3)"
   ]
  },
  {
   "cell_type": "markdown",
   "metadata": {},
   "source": [
    "## 4. Identity Operator\n",
    "\n",
    "| Operator  | Description                       |\n",
    "| --        | --                                |\n",
    "| is        | if both are the same object       |\n",
    "| is not    | if both are not the same object   |"
   ]
  },
  {
   "cell_type": "code",
   "execution_count": 4,
   "metadata": {},
   "outputs": [
    {
     "name": "stdout",
     "output_type": "stream",
     "text": [
      "True\n"
     ]
    }
   ],
   "source": [
    "# check same\n",
    "x = 1\n",
    "y = 1\n",
    "print(x is y)"
   ]
  },
  {
   "cell_type": "markdown",
   "metadata": {},
   "source": [
    "## 5. Membership Operator\n",
    "\n",
    "| Operator  | Description                           |\n",
    "| --        | --                                    |\n",
    "| in        | if the value is in the sequence       |\n",
    "| not in    | if the value is not in the sequence   |"
   ]
  },
  {
   "cell_type": "code",
   "execution_count": 5,
   "metadata": {},
   "outputs": [
    {
     "name": "stdout",
     "output_type": "stream",
     "text": [
      "check in list: True\n",
      "check in set: True\n",
      "check in tuple: True\n",
      "check in dict: True\n",
      "check in dict: False\n"
     ]
    }
   ],
   "source": [
    "# check in list\n",
    "x, y = 3, [1, 2, 3]\n",
    "print(\"check in list:\", x in y)\n",
    "\n",
    "# check in set\n",
    "x, y = 4, {1, 2, 3}\n",
    "print(\"check in set:\", x not in y)\n",
    "\n",
    "# check in tuple\n",
    "x, y = 1, (1, 2, 3)\n",
    "print(\"check in tuple:\", x in y)\n",
    "\n",
    "# check key in dict\n",
    "x, y = \"a\", {\"a\": 1, \"b\": 2}\n",
    "print(\"check in dict:\", x in y)\n",
    "x, y = 1, {\"a\": 1, \"b\": 2}\n",
    "print(\"check in dict:\", x in y)"
   ]
  },
  {
   "cell_type": "markdown",
   "metadata": {},
   "source": [
    "## 6. Bitwise Operators\n",
    "\n",
    "Bitwise operators are used to compare binary numbers.\n",
    "| Operator  | Name                  |\n",
    "| --        | --                    |\n",
    "| &         | AND                   |\n",
    "| \\|        | OR                    |\n",
    "| ^         | XOR                   |\n",
    "| ~         | NOT                   |\n",
    "| <<        | Zero fill left shift  |\n",
    "| >>        | Signed right shift    |\n"
   ]
  },
  {
   "cell_type": "code",
   "execution_count": 6,
   "metadata": {},
   "outputs": [
    {
     "name": "stdout",
     "output_type": "stream",
     "text": [
      "0\n",
      "7\n",
      "7\n",
      "-6\n",
      "20\n",
      "1\n"
     ]
    }
   ],
   "source": [
    "# AND\n",
    "x = 5\n",
    "print(x & 2)\n",
    "\n",
    "# OR\n",
    "x = 5\n",
    "print(x | 2)\n",
    "\n",
    "# XOR\n",
    "x = 5\n",
    "print(x ^ 2)\n",
    "\n",
    "# NOT\n",
    "x = 5\n",
    "print(~x)\n",
    "\n",
    "# Zero fill left shift\n",
    "x = 5\n",
    "print(x << 2)\n",
    "\n",
    "# Signed right shift\n",
    "x = 5\n",
    "print(x >> 2)"
   ]
  },
  {
   "cell_type": "markdown",
   "metadata": {},
   "source": [
    "## 7. Assignment Operators\n",
    "\n",
    "Assignment operators are used to assign values to variables\n",
    "For example, `x += 2` equals `x = x + 2`\n",
    "| Operator  |\n",
    "| --        |\n",
    "| =         |\n",
    "| +=        |\n",
    "| -=        |\n",
    "| *=        |\n",
    "| /=        |\n",
    "| %=        |\n",
    "| //=       |\n",
    "| **=       |\n",
    "| &=        |\n",
    "| \\|=       |\n",
    "| ^=        |\n",
    "| >>=       |\n",
    "| <<=       |"
   ]
  },
  {
   "cell_type": "code",
   "execution_count": 7,
   "metadata": {},
   "outputs": [
    {
     "name": "stdout",
     "output_type": "stream",
     "text": [
      "20\n"
     ]
    }
   ],
   "source": [
    "x = 5\n",
    "x *= 4\n",
    "print(x)"
   ]
  },
  {
   "cell_type": "markdown",
   "metadata": {},
   "source": [
    "# Operator Precedence\n",
    "Operators in statements are performed in order based on their precedence.\n",
    "If operators have the same precedence, they will be performed from left to right.\n",
    "\n",
    "You don't need to remember all the precedence of operators, just check the table at any time if you are not sure or always use the highest order  `()`.\n",
    "\n",
    "| Operator | Description |\n",
    "| --        | --    |\n",
    "| ()        | Parentheses   |\n",
    "| **        | Exponentiation    |\n",
    "| +x -x ~x  | Unary plus, unary minus, and bitwise NOT  |\n",
    "| * / // %  | Multiplication, division, floor division, and modules |\n",
    "| + -       | Addition and subtraction  |\n",
    "| << >>     | Bitwise left and right shifts |\n",
    "| &         | Bitwise AND   |\n",
    "| ^         | Bitwise XOR   |\n",
    "| \\|        | Bitwise OR    |\n",
    "| == != > >= < <= is is not in not in | Comparison, identity, and membership operators |\n",
    "| not       | Logical NOT   |\n",
    "| and       | AND           |\n",
    "| or        | OR            |\n"
   ]
  }
 ],
 "metadata": {
  "kernelspec": {
   "display_name": "python_311",
   "language": "python",
   "name": "python3"
  },
  "language_info": {
   "codemirror_mode": {
    "name": "ipython",
    "version": 3
   },
   "file_extension": ".py",
   "mimetype": "text/x-python",
   "name": "python",
   "nbconvert_exporter": "python",
   "pygments_lexer": "ipython3",
   "version": "3.11.8"
  }
 },
 "nbformat": 4,
 "nbformat_minor": 2
}
