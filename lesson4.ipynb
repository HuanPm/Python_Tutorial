{
 "cells": [
  {
   "cell_type": "markdown",
   "metadata": {},
   "source": [
    "# list"
   ]
  },
  {
   "cell_type": "markdown",
   "metadata": {},
   "source": [
    "## Access list items\n",
    "Since list items are ordered, item can be accessed by its index number.\n",
    "1. Positive indexing\n",
    "    - x[2] : the third item in list x\n",
    "2. Negative indexing\n",
    "    - x[-1] : the last item in list x\n",
    "3. Range of indexes\n",
    "    - x[2:5] : return a list containing the third item to the fifth item\n",
    "    - x[:3] : retuan a list containing the first item to the fourth item\n",
    "    - x[3:] : return a list containing the fourth item to to the end\n"
   ]
  },
  {
   "cell_type": "code",
   "execution_count": null,
   "metadata": {},
   "outputs": [],
   "source": [
    "x = [1, 2, 3, 4, 5, 6]\n",
    "\n",
    "# positive indexing\n",
    "print(x[2])\n",
    "\n",
    "# negative indexing\n",
    "print(x[-1])\n",
    "\n",
    "# range of indexes\n",
    "print(x[2:5])\n",
    "print(x[:3])\n",
    "print(x[3:])\n",
    "print(x[2:-1])"
   ]
  },
  {
   "cell_type": "markdown",
   "metadata": {},
   "source": [
    "## Assign new item to list\n",
    "1. Change item in list by its index\n",
    "    - x[2] = 3\n",
    "    - x[1:3] = [3, 4]\n",
    "    - x[2:4] = [1]\n",
    "2. Insert item at the specific index\n",
    "    - x.insert(2, 5)\n",
    "3. Add item to the end of the list\n",
    "    - x.append(5)\n",
    "4. Add multiple items by another list\n",
    "    - x.extend(y)\n",
    "    - x = x + y\n",
    "    - x += y\n",
    "5. Add multiple same list\n",
    "    - x = x * 3\n",
    "    - x *= 3"
   ]
  },
  {
   "cell_type": "code",
   "execution_count": null,
   "metadata": {},
   "outputs": [],
   "source": [
    "x = [1, 2, 3, 4, 5, 6]\n",
    "\n",
    "# change item\n",
    "x[2] = 1\n",
    "print(x)\n",
    "\n",
    "# change items\n",
    "x[1:3] = [4]\n",
    "print(x)\n",
    "\n",
    "# insert item\n",
    "x.insert(4, 9)\n",
    "print(x)\n",
    "\n",
    "# add item the the end\n",
    "x.append(8)\n",
    "print(x)\n",
    "\n",
    "# add another list\n",
    "y = [11, 12, 13]\n",
    "x.extend(y)\n",
    "print(x)\n",
    "\n",
    "y = [14, 15, 16]\n",
    "x += y\n",
    "print(x)\n",
    "\n",
    "# duplicate list\n",
    "x = [1, 2, 3]\n",
    "x *= 3\n",
    "print(x)"
   ]
  },
  {
   "cell_type": "markdown",
   "metadata": {},
   "source": [
    "## Remove list items\n",
    "1. Remove specific item : only remove the first occurance\n",
    "    - x.remove(1)\n",
    "2. Remove a itme with specific index\n",
    "    - x.pop(1) : remove the second item\n",
    "    - x.pop() : remove the latest item\n",
    "    - x[1:3] = [] : remove the second item to the third item\n",
    "    - del x[1]: remove the second item\n",
    "3. Remove all items in list\n",
    "    - x.clear()\n",
    "4. Remove the whole list\n",
    "    - del x"
   ]
  },
  {
   "cell_type": "code",
   "execution_count": null,
   "metadata": {},
   "outputs": [],
   "source": [
    "x = [1, 2, 3, 4, 5, 6, 7, 8, 9]\n",
    "\n",
    "# remove specific item\n",
    "x.remove(3)\n",
    "print(x)\n",
    "\n",
    "# remove item with index\n",
    "x.pop(1)\n",
    "print(x)\n",
    "\n",
    "x.pop()\n",
    "print(x)\n",
    "\n",
    "del x[1]\n",
    "print(x)\n",
    "\n",
    "x[1:3] = []\n",
    "print(x)\n",
    "\n",
    "# clear list\n",
    "x.clear()\n",
    "print(x)\n",
    "\n",
    "# remove whole list\n",
    "del x\n",
    "print(x)"
   ]
  },
  {
   "cell_type": "markdown",
   "metadata": {},
   "source": [
    "## Others\n",
    "1. copy() : Return a copy of the list\n",
    "2. count() : Return the number of items with specific value\n",
    "3. index(): Return the index of the first occurance with specific value"
   ]
  },
  {
   "cell_type": "code",
   "execution_count": null,
   "metadata": {},
   "outputs": [],
   "source": [
    "# Try yourself"
   ]
  },
  {
   "cell_type": "markdown",
   "metadata": {},
   "source": [
    "# tuple"
   ]
  },
  {
   "cell_type": "markdown",
   "metadata": {},
   "source": [
    "## Access tuple items\n",
    "It is the same with list."
   ]
  },
  {
   "cell_type": "code",
   "execution_count": null,
   "metadata": {},
   "outputs": [],
   "source": [
    "# Try yourself\n",
    "x = (1, 2, 3)"
   ]
  },
  {
   "cell_type": "markdown",
   "metadata": {},
   "source": [
    "## Assign new item to tuple\n",
    "Since tuple is unchangeable, you can only append another tuple at the end\n",
    "1. add another tuple\n",
    "- x = x + y\n",
    "- x += y\n",
    "2. add duplicate tuples\n",
    "- x = x * 2\n",
    "- x *= 3"
   ]
  },
  {
   "cell_type": "code",
   "execution_count": null,
   "metadata": {},
   "outputs": [],
   "source": [
    "x = (1, 2, 3, 4, 5)\n",
    "\n",
    "# add another tuple\n",
    "y = (6, 7, 8)\n",
    "x += y\n",
    "print(x)\n",
    "\n",
    "# dupplicate tuple\n",
    "x = (1, 2, 3)\n",
    "x *= 2\n",
    "print(x)"
   ]
  },
  {
   "cell_type": "markdown",
   "metadata": {},
   "source": [
    "## Remove tuple\n",
    "You can only remove the whole tuple\n",
    "- del x"
   ]
  },
  {
   "cell_type": "markdown",
   "metadata": {},
   "source": [
    "## Others\n",
    "1. count()\n",
    "2. index()"
   ]
  },
  {
   "cell_type": "code",
   "execution_count": null,
   "metadata": {},
   "outputs": [],
   "source": [
    "# try yourself"
   ]
  },
  {
   "cell_type": "markdown",
   "metadata": {},
   "source": [
    "# set\n",
    "Set in unindexed and unchanged, but you can add and remove items inset."
   ]
  },
  {
   "cell_type": "markdown",
   "metadata": {},
   "source": [
    "## Operators on set\n",
    "| Operator  | Method                        | Description                                                   |\n",
    "| --        | --                            | --                                                            |\n",
    "| -         | difference()                  | Return a set containing the difference between two sets       |\n",
    "| -=        | differnce_update()            | Remove the items included in another set                      |\n",
    "| &         | intersection()                | Return the intersection of two sets                           |\n",
    "| &=        | intersection_update()         | Remove the items not included in another set                  |\n",
    "| <=        | issubset()                    | Whether another set contains this set or not                  |\n",
    "| <         |                               | Whether this set is subset of another set but not equal       |\n",
    "| >=        | issuperset()                  | Whether this set contains another set or not                  |\n",
    "| >         |                               | Whether this set is superset of another set but not equal     |\n",
    "| ^         | symmetric_difference()        | Return the symmetric differences of two sets                  |\n",
    "| ^=        | summetric_difference_update() | Insert the symmetric differences from this set and another    |\n",
    "| \\|        | union()                       | Return the union of sets                                      |\n",
    "| \\|=       | update()                      | Add another set to this set                                   |"
   ]
  },
  {
   "cell_type": "code",
   "execution_count": null,
   "metadata": {},
   "outputs": [],
   "source": [
    "x = {1, 2, 3}\n",
    "y = {3, 4, 5, 6}\n",
    "\n",
    "# differnce\n",
    "print(\"difference\", x - y)\n",
    "\n",
    "# intersection\n",
    "print(\"intersection\", x & y)\n",
    "\n",
    "# is subset\n",
    "print(\"issubset\", x < y)\n",
    "\n",
    "# is superset\n",
    "print(\"issuperset\", x > y)\n",
    "\n",
    "# symmetric difference\n",
    "print(\"symmetric_difference\", x ^ y)\n",
    "\n",
    "# union\n",
    "print(\"union\", x | y)"
   ]
  },
  {
   "cell_type": "markdown",
   "metadata": {},
   "source": [
    "## Add items to set\n",
    "1. add an item to set\n",
    "    - x.add(1)\n",
    "2. add items from another set\n",
    "    - x.update(y)\n",
    "    - x = x | y\n",
    "    - x |= y"
   ]
  },
  {
   "cell_type": "markdown",
   "metadata": {},
   "source": [
    "## Others\n",
    "1. copy() : Return a copy of the set\n",
    "2. isdisjoint() : Whether two sets have a intersection or not"
   ]
  },
  {
   "cell_type": "code",
   "execution_count": null,
   "metadata": {},
   "outputs": [],
   "source": [
    "# try yourself"
   ]
  },
  {
   "cell_type": "markdown",
   "metadata": {},
   "source": [
    "## Remove items from list\n",
    "1. Remove an item in set\n",
    "    - x.remove(1) : will raise error if not exists\n",
    "    - x.discard(1) : will not raise error if not exists\n",
    "2. Remove a random item, and return its value\n",
    "    - x.pop()\n",
    "3. Remove all items in set\n",
    "    - x.clear()\n",
    "4. Remove the whole set\n",
    "    - del x"
   ]
  },
  {
   "cell_type": "code",
   "execution_count": null,
   "metadata": {},
   "outputs": [],
   "source": [
    "# try yourself"
   ]
  },
  {
   "cell_type": "markdown",
   "metadata": {},
   "source": [
    "# dict"
   ]
  },
  {
   "cell_type": "markdown",
   "metadata": {},
   "source": [
    "## Access items in dictionary\n",
    "1. get the value by its key in dict\n",
    "    - x['key'] : will raise error if key not exists\n",
    "    - x.get('key', 0) : if key not exists, return a default value\n",
    "2. get all keys in dict\n",
    "    - x.keys()\n",
    "3. get all values in dict\n",
    "    - x.values()\n",
    "4. get all pairs in dict\n",
    "    - x.items()"
   ]
  },
  {
   "cell_type": "code",
   "execution_count": null,
   "metadata": {},
   "outputs": [],
   "source": [
    "person = {\n",
    "    'name': \"Tino\",\n",
    "    'age': 30,\n",
    "    'height': 187\n",
    "}\n",
    "\n",
    "print(person['name'])\n",
    "print(person.keys())\n",
    "print(person.values())\n",
    "print(person.items())"
   ]
  },
  {
   "cell_type": "markdown",
   "metadata": {},
   "source": [
    "## Add items to dictionary\n",
    "1. add new item by key\n",
    "    - x['new_key'] = new_value\n",
    "2. add items by another dictionary\n",
    "    - x.update(y)\n"
   ]
  },
  {
   "cell_type": "code",
   "execution_count": null,
   "metadata": {},
   "outputs": [],
   "source": [
    "person = {\n",
    "    'name': \"Tino\"\n",
    "}\n",
    "\n",
    "person['age'] = 30\n",
    "print(person)\n",
    "\n",
    "new = {\n",
    "    'height': 187\n",
    "}\n",
    "person.update(new)\n",
    "print(person)"
   ]
  },
  {
   "cell_type": "markdown",
   "metadata": {},
   "source": [
    "## Remove items in dictionary\n",
    "1. Remove the item by its key\n",
    "    - x.pop('key)\n",
    "    - del x['key']\n",
    "2. Remove the late inserted item in dict\n",
    "    - x.popitem()\n",
    "3. Remove all items in dict\n",
    "    - x.clear()\n",
    "4. Remove the whole dict\n",
    "    - del x"
   ]
  },
  {
   "cell_type": "code",
   "execution_count": null,
   "metadata": {},
   "outputs": [],
   "source": [
    "# try yourself"
   ]
  },
  {
   "cell_type": "markdown",
   "metadata": {},
   "source": [
    "## Others\n",
    "1. copy()\n",
    "2. fromkeys()\n",
    "3. setdefault()"
   ]
  }
 ],
 "metadata": {
  "kernelspec": {
   "display_name": "python_311",
   "language": "python",
   "name": "python3"
  },
  "language_info": {
   "codemirror_mode": {
    "name": "ipython",
    "version": 3
   },
   "file_extension": ".py",
   "mimetype": "text/x-python",
   "name": "python",
   "nbconvert_exporter": "python",
   "pygments_lexer": "ipython3",
   "version": "3.11.8"
  }
 },
 "nbformat": 4,
 "nbformat_minor": 2
}
